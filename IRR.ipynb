{
 "cells": [
  {
   "cell_type": "markdown",
   "source": "Randomly selecting 30 images from the test data for inter-rater reliability.",
   "metadata": {
    "cell_id": "67e773782c224066b9c71cca50ef8f2d",
    "tags": [],
    "deepnote_cell_type": "markdown",
    "deepnote_cell_height": 52.390625
   }
  },
  {
   "cell_type": "code",
   "metadata": {
    "cell_id": "37456d2509944267a31363377227ab5c",
    "tags": [],
    "deepnote_to_be_reexecuted": false,
    "source_hash": "eb0a2bae",
    "execution_start": 1649878391967,
    "execution_millis": 1,
    "deepnote_cell_type": "code",
    "deepnote_cell_height": 261
   },
   "source": "def label(image):\n    if image in ggcl:\n        return \"Good GCL\"\n    elif image in pgcl:\n        return \"Poor GCL\"\n    elif image in gocta:\n        return \"Good OCTA\"\n    elif image in pocta:\n        return \"Poor OCTA\"\n    else:\n        return \"Broken Label\"",
   "outputs": [],
   "execution_count": null
  },
  {
   "cell_type": "code",
   "metadata": {
    "tags": [],
    "cell_id": "bed69104-f5ff-4b82-a29c-d5dcd3dbfde4",
    "deepnote_to_be_reexecuted": false,
    "source_hash": "5d0b9948",
    "execution_start": 1649717780465,
    "execution_millis": 5,
    "owner_user_id": "1baf9ce8-80e5-4ca1-9411-dad5fe06c85f",
    "deepnote_cell_type": "code",
    "deepnote_cell_height": 657
   },
   "source": "import os\nimport random\n\nggclpath = \"/work/GCLcleandata/test/gQual\"\npgclpath = \"/work/GCLcleandata/test/pQual\"\ngoctapath = \"/work/OCTAcleandata/test/gQual\"\npoctapath = \"/work/OCTAcleandata/test/pQual\"\n\nggcl = [ggclpath + '/' + x for x in os.listdir(ggclpath)]\npgcl = [pgclpath + '/' + x for x in os.listdir(pgclpath)]\ngocta = [goctapath + '/' + x for x in os.listdir(goctapath)]\npocta = [poctapath + '/' + x for x in os.listdir(poctapath)]\n\ngcl = ggcl + pgcl\nocta = gocta + pocta\n\ngclRand = []\ngclRandLabel = []\noctaRand = []\noctaRandLabel = []\n\nfor i in range(1,31):\n    grand = random.randint(0,len(gcl)-1) #generates a random value to pick from all GCL images\n    orand = random.randint(0,len(octa)-1) #generates a random value to pick from all OCTA images\n\n    #random GCL image, and its label\n    gclRand.append(gcl[grand])\n    gclRandLabel.append(label(gcl[grand]))\n\n    #random OCTA image, and its label\n    octaRand.append(octa[orand])\n    octaRandLabel.append(label(octa[orand]))\n",
   "execution_count": null,
   "outputs": []
  },
  {
   "cell_type": "code",
   "metadata": {
    "cell_id": "080797adf3f34c6f8bd366751d826870",
    "tags": [],
    "deepnote_to_be_reexecuted": false,
    "source_hash": "1221e60d",
    "execution_start": 1649717884089,
    "execution_millis": 897,
    "deepnote_cell_type": "code",
    "deepnote_cell_height": 153
   },
   "source": "import shutil\n\nfor i in range(len(gclRand)):\n    shutil.copyfile(gclRand[i], gpath + f\"/gcl{i}\")\n    shutil.copyfile(octaRand[i], opath + f\"/octa{i}\")",
   "execution_count": null,
   "outputs": []
  },
  {
   "cell_type": "code",
   "metadata": {
    "cell_id": "ffd9324530e740a8a80dde38cee48ada",
    "tags": [],
    "deepnote_to_be_reexecuted": true,
    "source_hash": "2a984f95",
    "execution_start": 1649717136286,
    "execution_millis": 5,
    "deepnote_cell_type": "code",
    "deepnote_cell_height": 674.859375,
    "deepnote_output_heights": [
     577.859375
    ]
   },
   "source": "octaRand",
   "execution_count": null,
   "outputs": [
    {
     "output_type": "execute_result",
     "execution_count": 7,
     "data": {
      "text/plain": "['CZMI1026511184_19561016_Male_Angiography 6x6 mm_20170822120530_OS_20200507133329_Angiography_Superficial.bmp',\n 'CZMI1830131158_19440620_Female_Angiography 6x6 mm_20180116111311_OS_20200608183429_Angiography_Superficial.bmp',\n 'CZMI1696282869_19600710_Female_Angiography 6x6 mm_20191022162718_OD_20200522121511_Angiography_Superficial.bmp',\n 'CZMI1144940020_19430201_Female_Angiography 6x6 mm_20171013085625_OD_20200507150436_Angiography_Superficial (1).bmp',\n 'CZMI1689695782_19410204_Male_Angiography 6x6 mm_20200114125126_OS_20200513192959_Angiography_Superficial.bmp',\n 'CZMI420966817_19450915_Female_Angiography 6x6 mm_20200207114522_OS_20200528140323_Angiography_Superficial.bmp',\n 'CZMI477491459_19620925_Male_Angiography 6x6 mm_20191022132207_OD_20200429155638_Angiography_Superficial.bmp',\n 'CZMI631146013_19430919_Male_Angiography 6x6 mm_20200123143450_OD_20200429171948_Angiography_Superficial.bmp',\n 'CZMI212169030_19570113_Female_Angiography 6x6 mm_20200121113221_OS_20200527171635_Angiography_Superficial.bmp',\n 'CZMI1758085232_19541115_Female_Angiography 6x6 mm_20200213093523_OD_20200608131054_Angiography_Superficial.bmp',\n 'CZMI1106725412_19590612_Male_Angiography 6x6 mm_20170911105243_OS_20200501115700_Angiography_Superficial.bmp',\n 'CZMI193742508_19510104_Male_Angiography 6x6 mm_20180326072121_OD_20200527161513_Angiography_Superficial.bmp',\n 'CZMI1828566846_19430508_Male_Angiography 6x6 mm_20191219100645_OD_20200424141044_Angiography_Superficial.bmp',\n 'CZMI754278573_19631208_Female_Angiography 6x6 mm_20191126121121_OS_20200519173435_Angiography_Superficial.bmp',\n 'CZMI1521922404_19430324_Male_Angiography 6x6 mm_20180524090252_OD_20200504130641_Angiography_Superficial.bmp',\n 'CZMI1849149347_19600324_Male_Angiography 6x6 mm_20191202104728_OD_20200514124221_Angiography_Superficial.bmp',\n 'CZMI1932216780_19860816_Female_Angiography 6x6 mm_20191202153513_OD_20200427113842_Angiography_Superficial.bmp',\n 'CZMI1755849431_19501105_Male_Angiography 6x6 mm_20200303100823_OD_20200608125516_Angiography_Superficial.bmp',\n 'CZMI1049300058_19361105_Unknown_Angiography 6x6 mm_20191029150505_OD_20200430181843_Angiography_Superficial.bmp',\n 'CZMI1362353960_19431012_Male_Angiography 6x6 mm_20171020091728_OD_20200521123354_Angiography_Superficial.bmp',\n 'CZMI1862933406_19470204_Female_Angiography 6x6 mm_20200210144322_OS_20200522143032_Angiography_Superficial.bmp',\n 'CZMI996817181_19450815_Male_Angiography 6x6 mm_20180508102921_OD_20200602160735_Angiography_Superficial.bmp',\n 'CZMI938765292_19380328_Female_Angiography 6x6 mm_20170831135613_OD_20200520140602_Angiography_Superficial.bmp',\n 'CZMI1026511184_19561016_Male_Angiography 6x6 mm_20170822120530_OS_20200507133329_Angiography_Superficial.bmp',\n 'CZMI602561744_19360130_Male_Angiography 6x6 mm_20200107155456_OS_20200506131537_Angiography_Superficial.bmp',\n 'CZMI113504855_19400106_Female_Angiography 6x6 mm_20200311162438_OS_20200527131549_Angiography_Superficial.bmp',\n 'CZMI357257539_19350419_Male_Angiography 6x6 mm_20200124095718_OS_20200528121902_Angiography_Superficial.bmp',\n 'CZMI599599166_19400127_Male_Angiography 6x6 mm_20191105140947_OS_20200506130052_Angiography_Superficial.bmp',\n 'CZMI1939932141_19430815_Unknown_Angiography 6x6 mm_20190920170918_OD_20200221143610_Angiography_Superficial.bmp',\n 'CZMI1828566846_19430508_Male_Angiography 6x6 mm_20191219100645_OD_20200424141044_Angiography_Superficial.bmp']"
     },
     "metadata": {}
    }
   ]
  },
  {
   "cell_type": "code",
   "metadata": {
    "cell_id": "e87d41834d544cea857dc907acd15959",
    "tags": [],
    "deepnote_to_be_reexecuted": false,
    "source_hash": "1f315b69",
    "execution_start": 1649717957820,
    "execution_millis": 2,
    "deepnote_cell_type": "code",
    "deepnote_cell_height": 674.859375,
    "deepnote_output_heights": [
     577.859375
    ]
   },
   "source": "gclRandLabel",
   "execution_count": null,
   "outputs": [
    {
     "output_type": "execute_result",
     "execution_count": 27,
     "data": {
      "text/plain": "['Poor GCL',\n 'Poor GCL',\n 'Good GCL',\n 'Good GCL',\n 'Good GCL',\n 'Poor GCL',\n 'Good GCL',\n 'Good GCL',\n 'Good GCL',\n 'Good GCL',\n 'Good GCL',\n 'Poor GCL',\n 'Good GCL',\n 'Good GCL',\n 'Poor GCL',\n 'Good GCL',\n 'Good GCL',\n 'Good GCL',\n 'Good GCL',\n 'Good GCL',\n 'Good GCL',\n 'Good GCL',\n 'Good GCL',\n 'Good GCL',\n 'Good GCL',\n 'Good GCL',\n 'Good GCL',\n 'Good GCL',\n 'Good GCL',\n 'Good GCL']"
     },
     "metadata": {}
    }
   ]
  },
  {
   "cell_type": "code",
   "metadata": {
    "cell_id": "5d94dd87b6074db38096c854d43fe769",
    "tags": [],
    "deepnote_to_be_reexecuted": false,
    "source_hash": "81ed90ee",
    "execution_start": 1649717975265,
    "execution_millis": 6,
    "deepnote_cell_type": "code",
    "deepnote_cell_height": 674.859375,
    "deepnote_output_heights": [
     577.859375
    ]
   },
   "source": "octaRandLabel",
   "execution_count": null,
   "outputs": [
    {
     "output_type": "execute_result",
     "execution_count": 28,
     "data": {
      "text/plain": "['Good OCTA',\n 'Poor OCTA',\n 'Good OCTA',\n 'Good OCTA',\n 'Poor OCTA',\n 'Good OCTA',\n 'Good OCTA',\n 'Good OCTA',\n 'Poor OCTA',\n 'Poor OCTA',\n 'Poor OCTA',\n 'Poor OCTA',\n 'Good OCTA',\n 'Poor OCTA',\n 'Poor OCTA',\n 'Poor OCTA',\n 'Poor OCTA',\n 'Poor OCTA',\n 'Poor OCTA',\n 'Poor OCTA',\n 'Poor OCTA',\n 'Poor OCTA',\n 'Poor OCTA',\n 'Poor OCTA',\n 'Poor OCTA',\n 'Poor OCTA',\n 'Good OCTA',\n 'Poor OCTA',\n 'Good OCTA',\n 'Good OCTA']"
     },
     "metadata": {}
    }
   ]
  },
  {
   "cell_type": "code",
   "metadata": {
    "cell_id": "98d80c00cf60466489060bccad0532d3",
    "tags": [],
    "deepnote_cell_type": "code",
    "deepnote_cell_height": 66
   },
   "source": "",
   "execution_count": null,
   "outputs": []
  },
  {
   "cell_type": "markdown",
   "source": "<a style='text-decoration:none;line-height:16px;display:flex;color:#5B5B62;padding:10px;justify-content:end;' href='https://deepnote.com?utm_source=created-in-deepnote-cell&projectId=eeea15ee-1713-4850-a1d6-fce82f9c7017' target=\"_blank\">\n<img alt='Created in deepnote.com' style='display:inline;max-height:16px;margin:0px;margin-right:7.5px;' src='data:image/svg+xml;base64,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' > </img>\nCreated in <span style='font-weight:600;margin-left:4px;'>Deepnote</span></a>",
   "metadata": {
    "tags": [],
    "created_in_deepnote_cell": true,
    "deepnote_cell_type": "markdown"
   }
  }
 ],
 "nbformat": 4,
 "nbformat_minor": 2,
 "metadata": {
  "orig_nbformat": 2,
  "deepnote": {
   "is_reactive": false
  },
  "deepnote_notebook_id": "1fcd8d9d-37ba-4e01-a73a-fb5528c86e6d",
  "deepnote_execution_queue": []
 }
}